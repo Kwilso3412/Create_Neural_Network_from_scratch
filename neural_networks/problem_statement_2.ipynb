{
 "cells": [
  {
   "cell_type": "markdown",
   "id": "cf7dd43a",
   "metadata": {},
   "source": [
    "# The problem: What are the total minutes streamed per platform of the users in a country"
   ]
  },
  {
   "cell_type": "code",
   "execution_count": null,
   "id": "b4d69914",
   "metadata": {},
   "outputs": [],
   "source": [
    "import numpy"
   ]
  },
  {
   "cell_type": "markdown",
   "id": "82ecbbba",
   "metadata": {},
   "source": [
    "Rule of Thumb: 2/3 Rule\n",
    "\n",
    "Country → Minutes (8 neurons)\n",
    "\n",
    "- Simpler problem: Predicting single number (total minutes)\n",
    "- Less complexity: Regression typically needs fewer neurons than classification\n",
    "- Reasoning: Total streaming time has fewer patterns than genre preferences"
   ]
  },
  {
   "cell_type": "markdown",
   "id": "6c71cc3f",
   "metadata": {},
   "source": []
  }
 ],
 "metadata": {
  "language_info": {
   "name": "python"
  }
 },
 "nbformat": 4,
 "nbformat_minor": 5
}
