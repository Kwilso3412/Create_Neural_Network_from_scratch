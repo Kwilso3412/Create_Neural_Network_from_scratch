{
 "cells": [
  {
   "cell_type": "markdown",
   "id": "545bbd63",
   "metadata": {},
   "source": [
    "# The Problem: What are by age what are the preferred listening times of users (Morning/Afternoon/Night)"
   ]
  },
  {
   "cell_type": "code",
   "execution_count": null,
   "id": "87467345",
   "metadata": {},
   "outputs": [],
   "source": [
    "import numpy"
   ]
  },
  {
   "cell_type": "markdown",
   "id": "427704bb",
   "metadata": {},
   "source": [
    "Rule of Thumb: 2/3 Rule\n",
    "\n",
    "Age → Time (12 neurons)\n",
    "\n",
    "- Complex patterns: Age-time preferences have subtle, non-linear relationships\n",
    "- Single input: Age needs more processing to find patterns\n",
    "- Reasoning: Young vs old listening habits require enough neurons to model curves"
   ]
  },
  {
   "cell_type": "markdown",
   "id": "729e8c59",
   "metadata": {},
   "source": []
  }
 ],
 "metadata": {
  "language_info": {
   "name": "python"
  }
 },
 "nbformat": 4,
 "nbformat_minor": 5
}
