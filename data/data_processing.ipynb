{
 "cells": [
  {
   "cell_type": "code",
   "execution_count": 11,
   "id": "604dfbc2",
   "metadata": {},
   "outputs": [],
   "source": [
    "import pandas as pd\n",
    "import numpy as np"
   ]
  },
  {
   "cell_type": "code",
   "execution_count": 3,
   "id": "b2ea4b19",
   "metadata": {},
   "outputs": [
    {
     "data": {
      "text/html": [
       "<div>\n",
       "<style scoped>\n",
       "    .dataframe tbody tr th:only-of-type {\n",
       "        vertical-align: middle;\n",
       "    }\n",
       "\n",
       "    .dataframe tbody tr th {\n",
       "        vertical-align: top;\n",
       "    }\n",
       "\n",
       "    .dataframe thead th {\n",
       "        text-align: right;\n",
       "    }\n",
       "</style>\n",
       "<table border=\"1\" class=\"dataframe\">\n",
       "  <thead>\n",
       "    <tr style=\"text-align: right;\">\n",
       "      <th></th>\n",
       "      <th>User_ID</th>\n",
       "      <th>Age</th>\n",
       "      <th>Country</th>\n",
       "      <th>Streaming Platform</th>\n",
       "      <th>Top Genre</th>\n",
       "      <th>Minutes Streamed Per Day</th>\n",
       "      <th>Number of Songs Liked</th>\n",
       "      <th>Most Played Artist</th>\n",
       "      <th>Subscription Type</th>\n",
       "      <th>Listening Time (Morning/Afternoon/Night)</th>\n",
       "      <th>Discover Weekly Engagement (%)</th>\n",
       "      <th>Repeat Song Rate (%)</th>\n",
       "    </tr>\n",
       "  </thead>\n",
       "  <tbody>\n",
       "    <tr>\n",
       "      <th>0</th>\n",
       "      <td>U1000</td>\n",
       "      <td>34</td>\n",
       "      <td>Japan</td>\n",
       "      <td>Tidal</td>\n",
       "      <td>Reggae</td>\n",
       "      <td>295</td>\n",
       "      <td>138</td>\n",
       "      <td>Adele</td>\n",
       "      <td>Free</td>\n",
       "      <td>Afternoon</td>\n",
       "      <td>47.42</td>\n",
       "      <td>16.74</td>\n",
       "    </tr>\n",
       "  </tbody>\n",
       "</table>\n",
       "</div>"
      ],
      "text/plain": [
       "  User_ID  Age Country Streaming Platform Top Genre  Minutes Streamed Per Day  \\\n",
       "0   U1000   34   Japan              Tidal    Reggae                       295   \n",
       "\n",
       "   Number of Songs Liked Most Played Artist Subscription Type  \\\n",
       "0                    138              Adele              Free   \n",
       "\n",
       "  Listening Time (Morning/Afternoon/Night)  Discover Weekly Engagement (%)  \\\n",
       "0                                Afternoon                           47.42   \n",
       "\n",
       "   Repeat Song Rate (%)  \n",
       "0                 16.74  "
      ]
     },
     "execution_count": 3,
     "metadata": {},
     "output_type": "execute_result"
    }
   ],
   "source": [
    "# load data \n",
    "music_data = pd.read_csv('Global_Music_Streaming_Listener_Preferences.csv')\n",
    "\n",
    "music_data.head(1)"
   ]
  },
  {
   "cell_type": "code",
   "execution_count": null,
   "id": "7055fa0d",
   "metadata": {},
   "outputs": [
    {
     "data": {
      "text/plain": [
       "Index(['user_id', 'age', 'country', 'streaming_platform', 'top_genre',\n",
       "       'minutes_streamed_per_day', 'number_of_songs_liked',\n",
       "       'most_played_artist', 'subscription_type', 'listening_time',\n",
       "       'discover_weekly_engagement', 'repeat_song_rate'],\n",
       "      dtype='object')"
      ]
     },
     "execution_count": 10,
     "metadata": {},
     "output_type": "execute_result"
    }
   ],
   "source": [
    "# Fix columns names\n",
    "music_data.columns = music_data.columns.str.lower()\n",
    "music_data.columns = music_data.columns.str.replace(' ','_')\n",
    "music_data.columns = music_data.columns.str.replace('_(%)','')\n",
    "music_data.columns = music_data.columns.str.replace('_(morning/afternoon/night)','')\n",
    "music_data.columns"
   ]
  },
  {
   "cell_type": "code",
   "execution_count": 16,
   "id": "380a8e79",
   "metadata": {},
   "outputs": [
    {
     "data": {
      "text/html": [
       "<div>\n",
       "<style scoped>\n",
       "    .dataframe tbody tr th:only-of-type {\n",
       "        vertical-align: middle;\n",
       "    }\n",
       "\n",
       "    .dataframe tbody tr th {\n",
       "        vertical-align: top;\n",
       "    }\n",
       "\n",
       "    .dataframe thead th {\n",
       "        text-align: right;\n",
       "    }\n",
       "</style>\n",
       "<table border=\"1\" class=\"dataframe\">\n",
       "  <thead>\n",
       "    <tr style=\"text-align: right;\">\n",
       "      <th></th>\n",
       "      <th>age</th>\n",
       "      <th>listening_time</th>\n",
       "    </tr>\n",
       "  </thead>\n",
       "  <tbody>\n",
       "    <tr>\n",
       "      <th>0</th>\n",
       "      <td>34</td>\n",
       "      <td>Afternoon</td>\n",
       "    </tr>\n",
       "  </tbody>\n",
       "</table>\n",
       "</div>"
      ],
      "text/plain": [
       "   age listening_time\n",
       "0   34      Afternoon"
      ]
     },
     "execution_count": 16,
     "metadata": {},
     "output_type": "execute_result"
    }
   ],
   "source": [
    "# split the data \n",
    "# Set 1: country and genre\n",
    "# set 2: country and streaming minutes\n",
    "# set 3: age and preferred listening time\n",
    "\n",
    "set_1 = music_data[['country','top_genre']]\n",
    "set_2 = music_data[['country','minutes_streamed_per_day']]\n",
    "set_3 = music_data[['age','listening_time']]\n",
    "\n",
    "set_3.head(1)"
   ]
  },
  {
   "cell_type": "code",
   "execution_count": 18,
   "id": "2b1c96db",
   "metadata": {},
   "outputs": [],
   "source": [
    "# export_data\n",
    "set_1.to_csv('./clean_data/country_genre.csv', index= False)\n",
    "set_2.to_csv('./clean_data/country_listen_time.csv', index=False)\n",
    "set_3.to_csv('./clean_data/age_time_of_day.csv', index = False)"
   ]
  }
 ],
 "metadata": {
  "kernelspec": {
   "display_name": "Python 3",
   "language": "python",
   "name": "python3"
  },
  "language_info": {
   "codemirror_mode": {
    "name": "ipython",
    "version": 3
   },
   "file_extension": ".py",
   "mimetype": "text/x-python",
   "name": "python",
   "nbconvert_exporter": "python",
   "pygments_lexer": "ipython3",
   "version": "3.13.1"
  }
 },
 "nbformat": 4,
 "nbformat_minor": 5
}
